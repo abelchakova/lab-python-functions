{
 "cells": [
  {
   "cell_type": "markdown",
   "id": "25d7736c-ba17-4aff-b6bb-66eba20fbf4e",
   "metadata": {},
   "source": [
    "# Lab | Functions"
   ]
  },
  {
   "cell_type": "markdown",
   "id": "0c581062-8967-4d93-b06e-62833222f930",
   "metadata": {
    "tags": []
   },
   "source": [
    "## Exercise: Managing Customer Orders with Functions\n",
    "\n",
    "In the previous exercise, you improved the code for managing customer orders by using loops and flow control. Now, let's take it a step further and refactor the code by introducing functions.\n",
    "\n",
    "Follow the steps below to complete the exercise:\n",
    "\n",
    "1. Define a function named `initialize_inventory` that takes `products` as a parameter. Inside the function, implement the code for initializing the inventory dictionary using a loop and user input.\n",
    "\n",
    "2. Define a function named `get_customer_orders` that takes no parameters. Inside the function, implement the code for prompting the user to enter the product names using a loop. The function should return the `customer_orders` set.\n",
    "\n",
    "3. Define a function named `update_inventory` that takes `customer_orders` and `inventory` as parameters. Inside the function, implement the code for updating the inventory dictionary based on the customer orders.\n",
    "\n",
    "4. Define a function named `calculate_order_statistics` that takes `customer_orders` and `products` as parameters. Inside the function, implement the code for calculating the order statistics (total products ordered, and percentage of unique products ordered). The function should return these values.\n",
    "\n",
    "5. Define a function named `print_order_statistics` that takes `order_statistics` as a parameter. Inside the function, implement the code for printing the order statistics.\n",
    "\n",
    "6. Define a function named `print_updated_inventory` that takes `inventory` as a parameter. Inside the function, implement the code for printing the updated inventory.\n",
    "\n",
    "7. Call the functions in the appropriate sequence to execute the program and manage customer orders.\n",
    "\n",
    "Hints for functions:\n",
    "\n",
    "- Consider the input parameters required for each function and their return values.\n",
    "- Utilize function parameters and return values to transfer data between functions.\n",
    "- Test your functions individually to ensure they work correctly.\n",
    "\n",
    "\n"
   ]
  },
  {
   "cell_type": "code",
   "execution_count": 39,
   "id": "9de35038-3e9c-47aa-a2db-7e513bf513df",
   "metadata": {},
   "outputs": [
    {
     "name": "stdin",
     "output_type": "stream",
     "text": [
      "Enter quantity of t-shirts:  7\n",
      "Enter quantity of mugs:  4\n",
      "Enter quantity of hats:  7\n",
      "Enter quantity of books:  5\n",
      "Enter quantity of keychains:  3\n",
      "Enter a product you want to order:  8\n",
      "Do you want to chose another product? yes/no yes\n",
      "Enter a product you want to order:  hat\n",
      "Do you want to chose another product? yes/no yes\n",
      "Enter a product you want to order:  mug\n",
      "Do you want to chose another product? yes/no yes\n",
      "Enter a product you want to order:  keychain\n",
      "Do you want to chose another product? yes/no k\n"
     ]
    },
    {
     "data": {
      "text/plain": [
       "{'8', 'hat', 'keychain', 'mug'}"
      ]
     },
     "execution_count": 39,
     "metadata": {},
     "output_type": "execute_result"
    }
   ],
   "source": [
    "products = [\"t-shirt\", \"mug\", \"hat\", \"book\", \"keychain\"]\n",
    "\n",
    "inventory = {}\n",
    "\n",
    "for product in products:\n",
    "    quantity = int(input(\"Enter quantity of \" + product + \"s\" + \": \"))\n",
    "    inventory[product] = quantity\n",
    "\n",
    "customer_orders = set()\n",
    "\n",
    "for prpoduct in products:\n",
    "    name = input(\"Enter a product you want to order: \")\n",
    "    set_name = customer_orders.add(name)\n",
    "    new_name = input(\"Do you want to chose another product? yes/no\")\n",
    "    new_name.upper()\n",
    "    if new_name == \"yes\":\n",
    "        continue\n",
    "    else:\n",
    "        break\n",
    "\n",
    "customer_orders "
   ]
  },
  {
   "cell_type": "code",
   "execution_count": 40,
   "id": "3dff5120-a81b-4564-915c-7b4ecc0f2771",
   "metadata": {},
   "outputs": [
    {
     "data": {
      "text/plain": [
       "{'t-shirt': 7, 'mug': 3, 'hat': 6, 'book': 5, 'keychain': 2}"
      ]
     },
     "execution_count": 40,
     "metadata": {},
     "output_type": "execute_result"
    }
   ],
   "source": [
    "for name, quantity in inventory.items():\n",
    "    if name in list(customer_orders):\n",
    "        inventory[name] -= 1\n",
    "\n",
    "inventory"
   ]
  },
  {
   "cell_type": "code",
   "execution_count": 10,
   "id": "1ea41576-4dfa-4da2-b864-d2e7dadb8cca",
   "metadata": {},
   "outputs": [
    {
     "name": "stdin",
     "output_type": "stream",
     "text": [
      "Enter quantity of t-shirts:  6\n",
      "Enter quantity of mugs:  7\n",
      "Enter quantity of hats:  3\n",
      "Enter quantity of books:  2\n",
      "Enter quantity of keychains:  5\n"
     ]
    },
    {
     "name": "stdout",
     "output_type": "stream",
     "text": [
      "{'t-shirt': 6, 'mug': 7, 'hat': 3, 'book': 2, 'keychain': 5}\n"
     ]
    }
   ],
   "source": [
    "# 1. Define a function named `initialize_inventory` that takes `products` as a parameter. \n",
    "# Inside the function, implement the code for initializing the inventory dictionary using a loop and user input.\n",
    "\n",
    "products = [\"t-shirt\", \"mug\", \"hat\", \"book\", \"keychain\"]\n",
    "\n",
    "inventory = {}\n",
    "\n",
    "def initialize_inventory(products):\n",
    "    for product in products:\n",
    "        quantity = int(input(\"Enter quantity of \" + product + \"s\" + \": \"))\n",
    "        inventory[product] = quantity\n",
    "    print(inventory)\n",
    "        \n",
    "initialize_inventory(products)"
   ]
  },
  {
   "cell_type": "code",
   "execution_count": 13,
   "id": "c3c53431-f6fb-4fa8-a0ae-478cc5fa3326",
   "metadata": {},
   "outputs": [
    {
     "name": "stdin",
     "output_type": "stream",
     "text": [
      "Enter a product you want to order:  hat\n",
      "Do you want to chose another product? yes/no yes\n",
      "Enter a product you want to order:  mug\n",
      "Do you want to chose another product? yes/no yes\n",
      "Enter a product you want to order:  keychain\n",
      "Do you want to chose another product? yes/no hg\n"
     ]
    },
    {
     "data": {
      "text/plain": [
       "{'hat', 'keychain', 'mug'}"
      ]
     },
     "execution_count": 13,
     "metadata": {},
     "output_type": "execute_result"
    }
   ],
   "source": [
    "#2. Define a function named `get_customer_orders` that takes no parameters.\n",
    "# Inside the function, implement the code for prompting the user to enter the product names using a loop.\n",
    "# The function should return the `customer_orders` set.\n",
    "\n",
    "customer_orders = set()\n",
    "\n",
    "def get_customer_orders():\n",
    "    for product in products:\n",
    "        name = input(\"Enter a product you want to order: \")\n",
    "        set_name = customer_orders.add(name)\n",
    "        new_name = input(\"Do you want to chose another product? yes/no\")\n",
    "        new_name.upper()\n",
    "        if new_name == \"yes\":\n",
    "            continue\n",
    "        else:\n",
    "            break\n",
    "    return customer_orders\n",
    "get_customer_orders()"
   ]
  },
  {
   "cell_type": "code",
   "execution_count": 14,
   "id": "710e44e1-8f18-436c-887d-18a592401838",
   "metadata": {},
   "outputs": [
    {
     "data": {
      "text/plain": [
       "{'t-shirt': 6, 'mug': 6, 'hat': 2, 'book': 2, 'keychain': 4}"
      ]
     },
     "execution_count": 14,
     "metadata": {},
     "output_type": "execute_result"
    }
   ],
   "source": [
    "# 3. Define a function named `update_inventory` that takes `customer_orders` and `inventory` as parameters.\n",
    "# Inside the function, implement the code for updating the inventory dictionary based on the customer orders.\n",
    "\n",
    "def update_inventory(customer_orders, inventory):\n",
    "    for product in inventory:\n",
    "        if product in list(customer_orders):\n",
    "            inventory[product] -= 1\n",
    "    return inventory\n",
    "\n",
    "update_inventory(customer_orders, inventory)"
   ]
  },
  {
   "cell_type": "code",
   "execution_count": 20,
   "id": "22038131-855e-4d69-8faa-b2c737d80c4e",
   "metadata": {},
   "outputs": [
    {
     "data": {
      "text/plain": [
       "(3, 15.0)"
      ]
     },
     "execution_count": 20,
     "metadata": {},
     "output_type": "execute_result"
    }
   ],
   "source": [
    "# 4. Define a function named `calculate_order_statistics` that takes `customer_orders` and `products` as parameters.\n",
    "# Inside the function, implement the code for calculating the order statistics (total products ordered,\n",
    "# and percentage of unique products ordered). The function should return these values.\n",
    "\n",
    "def calculate_order_statistics(customer_orders, products):\n",
    "    total_products = sum(inventory.values())\n",
    "    total_products_ordered = len(customer_orders)\n",
    "    percentage = total_products_ordered / total_products *100\n",
    "    return total_products_ordered, percentage\n",
    "\n",
    "calculate_order_statistics(customer_orders, products)"
   ]
  },
  {
   "cell_type": "code",
   "execution_count": 30,
   "id": "667faef5-ac67-4573-b636-6de2f7fcdb1c",
   "metadata": {},
   "outputs": [
    {
     "name": "stdout",
     "output_type": "stream",
     "text": [
      "Products ordered:  3 Percentage of products ordered:  15.0 %\n"
     ]
    }
   ],
   "source": [
    "# 5. Define a function named `print_order_statistics` that takes `order_statistics` as a parameter.\n",
    "# Inside the function, implement the code for printing the order statistics.\n",
    "order_statistics = list(calculate_order_statistics(customer_orders, products))\n",
    "def print_order_statistics(order_statistics):\n",
    "    print(\"Products ordered: \", order_statistics[0], \"Percentage of products ordered: \", order_statistics[1], \"%\")\n",
    "    \n",
    "    \n",
    "print_order_statistics(order_statistics)"
   ]
  },
  {
   "cell_type": "code",
   "execution_count": 32,
   "id": "ef2080d5-219a-411c-9bb0-02f79607ec23",
   "metadata": {},
   "outputs": [
    {
     "name": "stdout",
     "output_type": "stream",
     "text": [
      "Updated inventory:\n",
      "t-shirt: 6\n",
      "mug: 6\n",
      "hat: 2\n",
      "book: 2\n",
      "keychain: 4\n"
     ]
    }
   ],
   "source": [
    "# 6. Define a function named `print_updated_inventory` that takes `inventory` as a parameter.\n",
    "# Inside the function, implement the code for printing the updated inventory.\n",
    "\n",
    "def print_updated_inventory(inventory):\n",
    "    print(\"Updated inventory:\")\n",
    "    for product, quantity in inventory.items():\n",
    "        print(f\"{product}: {quantity}\")\n",
    "print_updated_inventory(inventory)    "
   ]
  },
  {
   "cell_type": "code",
   "execution_count": null,
   "id": "28d01c95-78c5-4ada-8c9b-c013b966e3ce",
   "metadata": {},
   "outputs": [],
   "source": [
    "# 7. Call the functions in the appropriate sequence to execute the program and manage customer orders.\n",
    "\n",
    "# List of products available\n",
    "products = [\"t-shirt\", \"mug\", \"hat\", \"book\", \"keychain\"]\n",
    "\n",
    "# Step-by-step execution\n",
    "initialize_inventory(products)\n",
    "get_customer_orders(products)\n",
    "update_inventory(customer_orders, inventory)\n",
    "calculate_order_statistics(customer_orders, products)\n",
    "print_order_statistics(order_statistics)\n",
    "print_updated_inventory(inventory)"
   ]
  },
  {
   "cell_type": "code",
   "execution_count": null,
   "id": "4219fb6c-6a5f-4ace-a81c-6d4691a37fb7",
   "metadata": {},
   "outputs": [],
   "source": []
  },
  {
   "cell_type": "code",
   "execution_count": 104,
   "id": "bdada0f0-7be9-4e14-8eaa-f4a225089314",
   "metadata": {},
   "outputs": [],
   "source": []
  }
 ],
 "metadata": {
  "kernelspec": {
   "display_name": "Python 3 (ipykernel)",
   "language": "python",
   "name": "python3"
  },
  "language_info": {
   "codemirror_mode": {
    "name": "ipython",
    "version": 3
   },
   "file_extension": ".py",
   "mimetype": "text/x-python",
   "name": "python",
   "nbconvert_exporter": "python",
   "pygments_lexer": "ipython3",
   "version": "3.12.3"
  }
 },
 "nbformat": 4,
 "nbformat_minor": 5
}
